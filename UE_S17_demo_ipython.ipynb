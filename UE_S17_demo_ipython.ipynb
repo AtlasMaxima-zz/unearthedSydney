{
 "cells": [
  {
   "cell_type": "markdown",
   "metadata": {},
   "source": [
    "# Demonstration of Map-M8 selective block loading"
   ]
  },
  {
   "cell_type": "code",
   "execution_count": 10,
   "metadata": {},
   "outputs": [
    {
     "data": {
      "text/html": [
       "<iframe id=\"igraph\" scrolling=\"no\" style=\"border:none;\" seamless=\"seamless\" src=\"https://plot.ly/~mdchia/1.embed\" height=\"525px\" width=\"100%\"></iframe>"
      ],
      "text/plain": [
       "<plotly.tools.PlotlyDisplay object>"
      ]
     },
     "execution_count": 10,
     "metadata": {},
     "output_type": "execute_result"
    }
   ],
   "source": [
    "import plotly.plotly as py\n",
    "import plotly.figure_factory as FF\n",
    "from plotly.graph_objs import graph_objs\n",
    "import plotly.graph_objs as go\n",
    "\n",
    "import numpy as np\n",
    "from scipy.spatial import Delaunay\n",
    "\n",
    "import csv\n",
    "import pandas\n",
    "\n",
    "import mesh\n",
    "\n",
    "d,t = mesh.read_tiered_data(['data/Output_Top_Illawarra.csv','data/Output_IllawarraCM_SR.csv','data/Output_KATSF.csv'])\n",
    "x,y,z = mesh.grid(d,t,(-33,-32),(149.5,150.3), num_xsteps=64,num_ysteps=64)\n",
    "x,y = np.meshgrid(x,y)\n",
    "x = x.flatten()\n",
    "y = y.flatten()\n",
    "z = z.flatten()\n",
    "#path_to_dataset = '../data/'\n",
    "#data_file_name = 'forming.csv'\n",
    "\n",
    "\n",
    "#with open(path_to_dataset + data_file_name, 'r') as csvfile:\n",
    "#    reader = csv.reader(csvfile)\n",
    "#    data_list = list(reader)\n",
    "\n",
    "#x = np.array([data[0] for data in data_list])\n",
    "#y = np.array([data[1] for data in data_list])\n",
    "#z = np.array([data[2] for data in data_list])\n",
    "\n",
    "#x = x.astype(float)\n",
    "#y = y.astype(float)\n",
    "#z = z.astype(float)\n",
    "\n",
    "#print(x[0:3])\n",
    "#print(x[2:5].astype(float))\n",
    "#print(len(x))\n",
    "\n",
    "#x = x[0:4999]\n",
    "#y = y[0:4999]\n",
    "#z = z[0:4999]\n",
    "\n",
    "#print(u[0:10],v[0:10])\n",
    "u=x\n",
    "v=y\n",
    "#print(u[0:10],v[0:10])\n",
    "\n",
    "#print(u,v,x,y,z,sep=\"\\n\")\n",
    "\n",
    "layout = go.Layout(\n",
    "                    scene = dict(\n",
    "                    xaxis = dict(showbackground=False, zeroline=False, showline=False, \n",
    "                                 showgrid=False, visible=False),\n",
    "                    yaxis = dict(showbackground=False, zeroline=False, showline=False, \n",
    "                                 showgrid=False, visible=False),\n",
    "                    zaxis = dict(showbackground=False, zeroline=False, showline=False, \n",
    "                                 showgrid=False)\n",
    "                    )\n",
    "                  )\n",
    "\n",
    "\n",
    "points2D = np.vstack([u,v]).T\n",
    "tri = Delaunay(points2D)\n",
    "simplices = tri.simplices\n",
    "\n",
    "fig1 = FF.create_trisurf(x=x, y=y, z=z, simplices=simplices, title=\"Illawara_short\", \n",
    "                         aspectratio=dict(x=1, y=1, z=1))\n",
    "#print(dir(fig1))\n",
    "#print(fig1.data[1])\n",
    "fig1.data[0]['opacity']=0.8\n",
    "fig1.data[1]['mode']=\"none\"\n",
    "#fig1.data[1]['mode']=\"points\"\n",
    "fig1.layout=layout\n",
    "py.iplot(fig1, filename=\"\")"
   ]
  },
  {
   "cell_type": "code",
   "execution_count": null,
   "metadata": {
    "collapsed": true
   },
   "outputs": [],
   "source": []
  }
 ],
 "metadata": {
  "kernelspec": {
   "display_name": "Python 3",
   "language": "python",
   "name": "python3"
  },
  "language_info": {
   "codemirror_mode": {
    "name": "ipython",
    "version": 3
   },
   "file_extension": ".py",
   "mimetype": "text/x-python",
   "name": "python",
   "nbconvert_exporter": "python",
   "pygments_lexer": "ipython3",
   "version": "3.6.1"
  }
 },
 "nbformat": 4,
 "nbformat_minor": 2
}
